{
 "cells": [
  {
   "cell_type": "markdown",
   "metadata": {},
   "source": [
    "# Train Model "
   ]
  },
  {
   "cell_type": "code",
   "execution_count": null,
   "metadata": {},
   "outputs": [],
   "source": [
    "from coders.vae_coding import conv_anime_decoder, conv_anime_encoder\n",
    "import tensorflow as tf\n",
    "import numpy as np\n",
    "from plots.grid_plots import show_samples, show_latent_scatter\n",
    "from providers.anime import Anime\n",
    "from tqdm import tqdm\n",
    "from models.vae import VAE\n",
    "\n",
    "\n",
    "def main():\n",
    "    flags = tf.flags\n",
    "    flags.DEFINE_integer(\"latent_dim\", 64, \"Dimension of latent space.\")\n",
    "    flags.DEFINE_integer(\"obs_dim\", 12288, \"Dimension of observation space.\")\n",
    "    flags.DEFINE_integer(\"batch_size\", 64, \"Batch size.\")\n",
    "    flags.DEFINE_integer(\"epochs\", 500, \"As it said\")\n",
    "    flags.DEFINE_integer(\"updates_per_epoch\", 100, \"Really just can set to 1 if you don't like mini-batch.\")\n",
    "    FLAGS = flags.FLAGS\n",
    "\n",
    "    kwargs = {\n",
    "        'latent_dim': FLAGS.latent_dim,\n",
    "        'batch_size': FLAGS.batch_size,\n",
    "        'observation_dim': FLAGS.obs_dim,\n",
    "        'encoder': conv_anime_encoder,\n",
    "        'decoder': conv_anime_decoder,\n",
    "        'observation_distribution': 'Gaussian'\n",
    "    }\n",
    "    vae = VAE(**kwargs)\n",
    "    provider = Anime()\n",
    "    tbar = tqdm(range(FLAGS.epochs))\n",
    "    for epoch in tbar:\n",
    "        training_loss = 0.\n",
    "\n",
    "        for _ in range(FLAGS.updates_per_epoch):\n",
    "            x = provider.next_batch(FLAGS.batch_size)\n",
    "            loss = vae.update(x)\n",
    "            training_loss += loss\n",
    "\n",
    "        training_loss /= FLAGS.updates_per_epoch\n",
    "        s = \"Loss: {:.4f}\".format(training_loss)\n",
    "        tbar.set_description(s)\n",
    "\n",
    "    z = np.random.normal(size=[FLAGS.batch_size, FLAGS.latent_dim])\n",
    "    samples = vae.z2x(z)[0]\n",
    "    show_samples(samples, 8, 8, [64, 64, 3], name='samples')\n",
    "\n",
    "    vae.save_generator('weights/vae_anime/generator')\n",
    "\n",
    "\n",
    "main()"
   ]
  },
  {
   "cell_type": "markdown",
   "metadata": {},
   "source": [
    "# Sample"
   ]
  },
  {
   "cell_type": "code",
   "execution_count": null,
   "metadata": {},
   "outputs": [],
   "source": [
    "from coders.vae_coding import conv_anime_decoder, conv_anime_encoder\n",
    "import tensorflow as tf\n",
    "import numpy as np\n",
    "from plots.grid_plots import show_samples, show_latent_scatter\n",
    "from providers.anime import Anime\n",
    "from tqdm import tqdm\n",
    "from models.generator import GENERATOR\n",
    "\n",
    "def main():\n",
    "    flags = tf.flags\n",
    "    flags.DEFINE_integer(\"latent_dim\", 64, \"Dimension of latent space.\")\n",
    "    flags.DEFINE_integer(\"obs_dim\", 12288, \"Dimension of observation space.\")\n",
    "    flags.DEFINE_integer(\"batch_size\", 60, \"Batch size.\")\n",
    "    flags.DEFINE_integer(\"epochs\", 500, \"As it said\")\n",
    "    flags.DEFINE_integer(\"updates_per_epoch\", 100, \"Really just can set to 1 if you don't like mini-batch.\")\n",
    "    FLAGS = flags.FLAGS\n",
    "\n",
    "    kwargs = {\n",
    "        'latent_dim': FLAGS.latent_dim,\n",
    "        'observation_dim': FLAGS.obs_dim,\n",
    "        'generator': conv_anime_decoder,\n",
    "        'obs_distrib': 'Gaussian'\n",
    "    }\n",
    "    g = GENERATOR(**kwargs)\n",
    "    g.load_pretrained(\"weights/vae_anime/generator\")\n",
    "\n",
    "    z = np.random.normal(size=[FLAGS.batch_size, FLAGS.latent_dim])\n",
    "    samples = g.e2x(z)\n",
    "    print samples.shape\n",
    "    show_samples(samples, 4, 15, [64, 64, 3], name='small_samples', shift=True)\n",
    "\n",
    "#if __name__ == '__main__':\n",
    "main()"
   ]
  }
 ],
 "metadata": {
  "kernelspec": {
   "display_name": "Python 3",
   "language": "python",
   "name": "python3"
  },
  "language_info": {
   "codemirror_mode": {
    "name": "ipython",
    "version": 3
   },
   "file_extension": ".py",
   "mimetype": "text/x-python",
   "name": "python",
   "nbconvert_exporter": "python",
   "pygments_lexer": "ipython3",
   "version": "3.8.6"
  }
 },
 "nbformat": 4,
 "nbformat_minor": 4
}
